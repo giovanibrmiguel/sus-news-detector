{
 "cells": [
  {
   "cell_type": "markdown",
   "metadata": {
    "id": "sila8bB5bmgj"
   },
   "source": [
    "### Importing main libraries"
   ]
  },
  {
   "cell_type": "code",
   "execution_count": 1,
   "metadata": {
    "id": "TVh7GuQI_XZn"
   },
   "outputs": [],
   "source": [
    "import pandas as pd\n",
    "import numpy as np\n",
    "import seaborn as sns\n",
    "import nltk\n",
    "from nltk.corpus import stopwords\n",
    "from nltk.tokenize import RegexpTokenizer\n",
    "from newsplease import NewsPlease\n",
    "from sklearn.svm import OneClassSVM\n",
    "from sklearn.feature_extraction.text import CountVectorizer\n",
    "from sklearn.metrics import confusion_matrix, classification_report, roc_curve, auc"
   ]
  },
  {
   "cell_type": "markdown",
   "metadata": {
    "id": "Ik6RaNPWa4Mw"
   },
   "source": [
    "### Importing Train and Test dataframes"
   ]
  },
  {
   "cell_type": "code",
   "execution_count": 2,
   "metadata": {},
   "outputs": [],
   "source": [
    "#Calling train and tests datasets\n",
    "X_train = pd.read_csv(\"X_train.csv\").set_index('Unnamed: 0')\n",
    "y_train = pd.read_csv(\"y_train.csv\").set_index('Unnamed: 0')\n",
    "X_test = pd.read_csv(\"X_test.csv\").set_index('Unnamed: 0')\n",
    "y_test = pd.read_csv(\"y_test.csv\").set_index('Unnamed: 0')\n",
    "vocabulario = pd.read_csv(\"vocabulario.csv\").set_index('Unnamed: 0').iloc[:,0].tolist()\n",
    "\n",
    "#Calling the stopwords following the desired language\n",
    "stop_words = set(stopwords.words('portuguese'))\n",
    "\n",
    "#Calling the tokenizer to extract only words\n",
    "tokenizer = RegexpTokenizer(r'\\w+')\n",
    "\n",
    "#up_noticia = pd.read_csv(\"noticia.csv\", encoding='ISO-8859-1')\n",
    "#noticia_teste = up_noticia.columns.tolist()[0]"
   ]
  },
  {
   "cell_type": "markdown",
   "metadata": {},
   "source": [
    "### Using One-Class SVM"
   ]
  },
  {
   "cell_type": "code",
   "execution_count": 3,
   "metadata": {},
   "outputs": [
    {
     "name": "stdout",
     "output_type": "stream",
     "text": [
      "[LibSVM]              precision    recall  f1-score   support\n",
      "\n",
      "          -1       0.67      0.40      0.50        40\n",
      "           1       0.57      0.80      0.67        40\n",
      "\n",
      "    accuracy                           0.60        80\n",
      "   macro avg       0.62      0.60      0.58        80\n",
      "weighted avg       0.62      0.60      0.58        80\n",
      "\n",
      "AxesSubplot(0.125,0.125;0.62x0.755)\n"
     ]
    },
    {
     "data": {
      "image/png": "[encoded data removed]",
      "text/plain": [
       "<Figure size 432x288 with 2 Axes>"
      ]
     },
     "metadata": {
      "needs_background": "light"
     },
     "output_type": "display_data"
    }
   ],
   "source": [
    "model = OneClassSVM(gamma='auto', nu = 0.3, verbose = True)\n",
    "model.fit(X_train)\n",
    "y_pred = model.predict(X_test)\n",
    "print(classification_report(y_test, y_pred))\n",
    "print(sns.heatmap(confusion_matrix(y_test,y_pred), annot=True))"
   ]
  },
  {
   "cell_type": "markdown",
   "metadata": {},
   "source": [
    "### Receiving a url and preparing for model"
   ]
  },
  {
   "cell_type": "code",
   "execution_count": 4,
   "metadata": {},
   "outputs": [],
   "source": [
    "#Calling noticia teste\n",
    "link = 'https://revistaoeste.com/brasil/coronavirus-brasil/tratamento-precoce-dois-mil-medicos-apoiam-terapeutica/'\n",
    "\n",
    "def news_please(news_link):\n",
    "    news = NewsPlease.from_url(news_link)\n",
    "    news_text = news.maintext.replace('\\n',' ')\n",
    "    return news_text"
   ]
  },
  {
   "cell_type": "code",
   "execution_count": 8,
   "metadata": {
    "scrolled": true
   },
   "outputs": [
    {
     "name": "stdout",
     "output_type": "stream",
     "text": [
      "  vacinação toda população quilombola pautas debatidas abrasco desde começo  \\\n",
      "0         0    0         0          0      0         0       0     0      0   \n",
      "\n",
      "  pandemia  ... adotei bora preferível gold frontline doctors maca reale  \\\n",
      "0        0  ...      0    0          0    0         0       0    0     0   \n",
      "\n",
      "  jonestown luix  \n",
      "0         0    0  \n",
      "\n",
      "[1 rows x 23606 columns]\n"
     ]
    }
   ],
   "source": [
    "print(vec_news(news_please('https://revistaoeste.com/brasil/coronavirus-brasil/tratamento-precoce-dois-mil-medicos-apoiam-terapeutica/')))"
   ]
  },
  {
   "cell_type": "markdown",
   "metadata": {},
   "source": [
    "### Vectorizing Data Entry"
   ]
  },
  {
   "cell_type": "code",
   "execution_count": 6,
   "metadata": {},
   "outputs": [],
   "source": [
    "def vec_news(noticia):\n",
    "    #Tokenizing and removing stopwords for news entry\n",
    "    token_1 = tokenizer.tokenize(noticia)\n",
    "    token_2 = [word.lower() for word in token_1 if word not in stop_words]\n",
    "    text_join = \" \".join(token_2)\n",
    "    tokenized_news_join = list()\n",
    "    tokenized_news_join.append(text_join)\n",
    "    \n",
    "    #Vectorizing news entry (already tokenized)\n",
    "    count_vec = CountVectorizer(vocabulary= vocabulario)\n",
    "    count_vec_news = count_vec.fit_transform(tokenized_news_join)\n",
    "    \n",
    "    #transforming vectorized news entry in dataframe\n",
    "    news_df = pd.DataFrame(columns = vocabulario)\n",
    "    news_list = list()\n",
    "    values = count_vec_news[0].toarray()[0]\n",
    "    zipped = zip(vocabulario, values)\n",
    "    df_dic = dict(zipped)\n",
    "  \n",
    "    news_list.append(df_dic)\n",
    "    noticia_tratada = news_df.append(news_list)\n",
    "        \n",
    "    return noticia_tratada"
   ]
  },
  {
   "cell_type": "markdown",
   "metadata": {},
   "source": [
    "### Predicting"
   ]
  },
  {
   "cell_type": "code",
   "execution_count": 5,
   "metadata": {},
   "outputs": [],
   "source": [
    "def predict_news(noticia_tratada):\n",
    "    prediction = model.predict(noticia_tratada)\n",
    "    if prediction == 1:\n",
    "        print('Essa notícia parece ser confiável.')\n",
    "    elif prediction == -1:\n",
    "        print('Essa notícia parece ser suspeita. Cheque a fonte!')"
   ]
  },
  {
   "cell_type": "code",
   "execution_count": 16,
   "metadata": {
    "scrolled": true
   },
   "outputs": [
    {
     "data": {
      "text/html": [
       "<div>\n",
       "<style scoped>\n",
       "    .dataframe tbody tr th:only-of-type {\n",
       "        vertical-align: middle;\n",
       "    }\n",
       "\n",
       "    .dataframe tbody tr th {\n",
       "        vertical-align: top;\n",
       "    }\n",
       "\n",
       "    .dataframe thead th {\n",
       "        text-align: right;\n",
       "    }\n",
       "</style>\n",
       "<table border=\"1\" class=\"dataframe\">\n",
       "  <thead>\n",
       "    <tr style=\"text-align: right;\">\n",
       "      <th></th>\n",
       "      <th>vacinação</th>\n",
       "      <th>toda</th>\n",
       "      <th>população</th>\n",
       "      <th>quilombola</th>\n",
       "      <th>pautas</th>\n",
       "      <th>debatidas</th>\n",
       "      <th>abrasco</th>\n",
       "      <th>desde</th>\n",
       "      <th>começo</th>\n",
       "      <th>pandemia</th>\n",
       "      <th>...</th>\n",
       "      <th>adotei</th>\n",
       "      <th>bora</th>\n",
       "      <th>preferível</th>\n",
       "      <th>gold</th>\n",
       "      <th>frontline</th>\n",
       "      <th>doctors</th>\n",
       "      <th>maca</th>\n",
       "      <th>reale</th>\n",
       "      <th>jonestown</th>\n",
       "      <th>luix</th>\n",
       "    </tr>\n",
       "  </thead>\n",
       "  <tbody>\n",
       "    <tr>\n",
       "      <th>0</th>\n",
       "      <td>0</td>\n",
       "      <td>0</td>\n",
       "      <td>0</td>\n",
       "      <td>0</td>\n",
       "      <td>0</td>\n",
       "      <td>0</td>\n",
       "      <td>0</td>\n",
       "      <td>0</td>\n",
       "      <td>0</td>\n",
       "      <td>0</td>\n",
       "      <td>...</td>\n",
       "      <td>0</td>\n",
       "      <td>0</td>\n",
       "      <td>0</td>\n",
       "      <td>0</td>\n",
       "      <td>0</td>\n",
       "      <td>0</td>\n",
       "      <td>0</td>\n",
       "      <td>0</td>\n",
       "      <td>0</td>\n",
       "      <td>0</td>\n",
       "    </tr>\n",
       "  </tbody>\n",
       "</table>\n",
       "<p>1 rows × 23606 columns</p>\n",
       "</div>"
      ],
      "text/plain": [
       "  vacinação toda população quilombola pautas debatidas abrasco desde começo  \\\n",
       "0         0    0         0          0      0         0       0     0      0   \n",
       "\n",
       "  pandemia  ... adotei bora preferível gold frontline doctors maca reale  \\\n",
       "0        0  ...      0    0          0    0         0       0    0     0   \n",
       "\n",
       "  jonestown luix  \n",
       "0         0    0  \n",
       "\n",
       "[1 rows x 23606 columns]"
      ]
     },
     "execution_count": 16,
     "metadata": {},
     "output_type": "execute_result"
    }
   ],
   "source": [
    "vec_news(news_please(link))"
   ]
  },
  {
   "cell_type": "code",
   "execution_count": 17,
   "metadata": {},
   "outputs": [
    {
     "name": "stdout",
     "output_type": "stream",
     "text": [
      "Essa notícia parece ser confiável.\n"
     ]
    }
   ],
   "source": [
    "predict_news(vec_news(news_please(link)))"
   ]
  }
 ],
 "metadata": {
  "colab": {
   "collapsed_sections": [
    "Ik6RaNPWa4Mw",
    "34DNsIvZavhN",
    "_u6BXpN_yrc-",
    "X_FB9PFigToS",
    "pmtpGae4gscF"
   ],
   "name": "Suspicious News Detector - One Class SVM model (Discovery Notebook)",
   "provenance": [],
   "toc_visible": true
  },
  "kernelspec": {
   "display_name": "Python 3",
   "language": "python",
   "name": "python3"
  },
  "language_info": {
   "codemirror_mode": {
    "name": "ipython",
    "version": 3
   },
   "file_extension": ".py",
   "mimetype": "text/x-python",
   "name": "python",
   "nbconvert_exporter": "python",
   "pygments_lexer": "ipython3",
   "version": "3.8.5"
  }
 },
 "nbformat": 4,
 "nbformat_minor": 4
}
